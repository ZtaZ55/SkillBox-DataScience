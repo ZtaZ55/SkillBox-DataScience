{
  "nbformat": 4,
  "nbformat_minor": 0,
  "metadata": {
    "colab": {
      "name": "train_pretified.ipynb",
      "provenance": [],
      "collapsed_sections": []
    },
    "kernelspec": {
      "name": "python3",
      "display_name": "Python 3"
    },
    "language_info": {
      "name": "python"
    }
  },
  "cells": [
    {
      "cell_type": "code",
      "source": [
        "import numpy as np\n",
        "import pandas as pd\n",
        "import random,os\n",
        "import sys\n",
        "from sklearn.preprocessing import StandardScaler, RobustScaler,MinMaxScaler\n",
        "from sklearn.model_selection import train_test_split\n",
        "from catboost import CatBoostRegressor\n",
        "from sklearn.metrics import mean_absolute_error\n",
        "from IPython.display import display"
      ],
      "metadata": {
        "id": "M573DTyIPPkc"
      },
      "execution_count": 6,
      "outputs": []
    },
    {
      "cell_type": "code",
      "source": [
        "def seed_everything(seed=0):\n",
        "    random.seed(seed)\n",
        "    os.environ['PYTHONHASHSEED'] = str(seed)\n",
        "    np.random.seed(seed)\n",
        "\n",
        "\n",
        "seed_everything()\n",
        "pd.set_option('display.max_columns', None)\n",
        "\n",
        "#загрузка датасета\n",
        "train=pd.read_csv('covid_data_train.csv')\n",
        "test=pd.read_csv('covid_data_test.csv')\n",
        "test['Unnamed: 1']=test['Unnamed: 0']\n",
        "test.set_index('Unnamed: 1',inplace=True)\n",
        "\n",
        "nans = train[train.population.isna()]\n",
        "train = train.drop(nans.index,axis=0)"
      ],
      "metadata": {
        "id": "MKNBSAX5P3kp"
      },
      "execution_count": 13,
      "outputs": []
    },
    {
      "cell_type": "code",
      "source": [
        "columns_to_drop_70 = [] #список столбцов, в которых содержание NaN >= 70%\n",
        "for c in train.columns:\n",
        "    if train[c].isna().sum()/len(train)>=0.7:\n",
        "        columns_to_drop_70.append(c)\n",
        "\n",
        "\n",
        "categoricals = ['district', 'subject']\n",
        "\n",
        "ivls_ekmos = ['ivl_per_100k', 'ivl_number', 'ekmo_per_100k', 'ekmo_number']\n",
        "\n",
        "tuberculs = ['num_patients_tubercul_1992','num_patients_tubercul_1993','num_patients_tubercul_1994','num_patients_tubercul_1995',\n",
        "           'num_patients_tubercul_1996','num_patients_tubercul_1997','num_patients_tubercul_1998','num_patients_tubercul_1999',\n",
        "           'num_patients_tubercul_2000','num_patients_tubercul_2001','num_patients_tubercul_2002','num_patients_tubercul_2003',\n",
        "           'num_patients_tubercul_2004','num_patients_tubercul_2005','num_patients_tubercul_2006','num_patients_tubercul_2007',\n",
        "           'num_patients_tubercul_2008','num_patients_tubercul_2009','num_patients_tubercul_2010','num_patients_tubercul_2011',\n",
        "           'num_patients_tubercul_2012','num_patients_tubercul_2013','num_patients_tubercul_2014','num_patients_tubercul_2015',\n",
        "           'num_patients_tubercul_2016','num_patients_tubercul_2017']\n",
        "\n",
        "transports = ['epirank_bus','epirank_train','epirank_bus_cat','epirank_train_cat','epirank_bus',\n",
        "            'epirank_train','epirank_bus_cat','epirank_train_cat']\n",
        "\n",
        "subjects = ['Хакасия', 'Оренбургская область', 'Краснодарский край', 'Татарстан', 'Ростовская область', 'Свердловская область', \n",
        "          'Чувашия', 'Якутия', 'Алтайский край', 'Владимирская область', 'Пермский край', 'Белгородская область', 'Тульская область', \n",
        "          'Иркутская область', 'Крым', 'Чукотский АО', 'Тверская область', 'Кемеровская область', 'Мурманская область', 'Чечня', \n",
        "          'Мордовия', 'Нижегородская область', 'Саратовская область', 'Приморский край', 'Красноярский край', 'Архангельская область', \n",
        "          'Томская область', 'Астраханская область', 'Челябинская область', 'Вологодская область', 'Бурятия', 'Кабардино-Балкария', \n",
        "          'Калужская область', 'Московская область', 'Забайкальский край', 'Новосибирская область', 'Ульяновская область', \n",
        "          'Пензенская область', 'Амурская область', 'Карелия', 'Башкортостан', 'Ханты-Мансийский АО — Югра', 'Северная Осетия — Алания', \n",
        "          'Хабаровский край', 'Еврейская АО', 'Ставропольский край', 'Воронежская область', 'Ленинградская область', 'Орловская область', \n",
        "          'Новгородская область', 'Брянская область', 'Костромская область', 'Смоленская область', 'Псковская область', 'Ивановская область', \n",
        "          'Волгоградская область', 'Марий Эл', 'Коми', 'Удмуртия', 'Кировская область', 'Ярославская область', 'Алтай', 'Калмыкия', \n",
        "          'Липецкая область', 'Ямало-Ненецкий АО', 'Калининградская область', 'Курганская область', 'Дагестан', 'Сахалинская область', \n",
        "          'Курская область', 'Тамбовская область', 'Самарская область', 'Тюменская область', 'Омская область', 'Рязанская область', \n",
        "          'Тыва', 'Магаданская область', 'Адыгея', 'Москва', 'Ингушетия', 'Ненецкий АО', 'Камчатский край', 'Санкт-Петербург', 'Севастополь']"
      ],
      "metadata": {
        "id": "7jB47TAYRdjw"
      },
      "execution_count": 14,
      "outputs": []
    },
    {
      "cell_type": "code",
      "source": [
        "#заполнение NaN нулями, удаление ненужных столбцов\n",
        "def prepare_and_clean_data(df):\n",
        "    df = df.drop(['region_x','Unnamed: 0'], axis=1)\n",
        "    df['has_metro'] = df['has_metro'].fillna(0)\n",
        "    df = df.drop(columns_to_drop_70, axis=1)\n",
        "    df[ivls_ekmos] = df[ivls_ekmos].fillna(0)\n",
        "    df = df.drop(transports, axis=1)\n",
        "\n",
        "    return df\n",
        "\n",
        "#'умное' заполнение пустых значений для признаков, связанных с туберкулезом\n",
        "def smart_fillna_for_tubercul(train, test):\n",
        "    tmp = pd.concat([train, test])\n",
        "\n",
        "    fill_vals = pd.DataFrame(tmp.groupby('name')[tuberculs])\n",
        "    fill_vals_dict = {}\n",
        "\n",
        "    for i in range(len(fill_vals)):\n",
        "        fill_vals_dict[fill_vals[0][i]] = np.nanmean(fill_vals[1][i]) #np.nanmean(fill_vals[1][i][tuberculs]) for pandas==1.3\n",
        "\n",
        "    for i in tmp.index:\n",
        "        tmp.loc[i,tuberculs] = tmp.loc[i,tuberculs].fillna(fill_vals_dict[tmp.loc[i,'name']])\n",
        "      \n",
        "    tmp = tmp.drop('name',axis=1)\n",
        "\n",
        "    for i in tmp.columns:\n",
        "        if tmp[i].isna().sum()>0 and i not in categoricals:\n",
        "            tmp[i] = tmp[i].fillna(np.nanmean(tmp[i]))\n",
        "    \n",
        "    return tmp[:len(train)], tmp[len(train):]\n",
        "\n",
        "#создание новых признаков\n",
        "def making_features(df):\n",
        "    df['avg_temp_mul_hum'] = df['humidity_max'] / df['avg_temp_max']\n",
        "    return df\n",
        "\n",
        "#нормализация данных\n",
        "def scaling(train, test):\n",
        "    count_var = []\n",
        "\n",
        "    tmp = pd.concat([train, test])\n",
        "    for col in tmp.columns:\n",
        "        if tmp[col].dtype != 'object':\n",
        "            count_var.append(col)\n",
        "\n",
        "    df_tmp = tmp[(count_var)]\n",
        "    std_scaler = StandardScaler()\n",
        "    std_scaler.fit(df_tmp)\n",
        "\n",
        "    scaled_train = std_scaler.transform(train[count_var])\n",
        "    scaled_test = std_scaler.transform(test[count_var])\n",
        "\n",
        "    count_var_col = []\n",
        "    for col_name in count_var:\n",
        "        count_var_col.append(col_name + '_std')\n",
        "\n",
        "    train[count_var_col] = scaled_train\n",
        "    test[count_var_col]  = scaled_test\n",
        "\n",
        "    train = train.drop(count_var, axis=1)\n",
        "    test = test.drop(count_var, axis=1)\n",
        "\n",
        "    return train, test"
      ],
      "metadata": {
        "id": "9oJmT8GpP5-8"
      },
      "execution_count": 15,
      "outputs": []
    },
    {
      "cell_type": "code",
      "source": [
        "train = prepare_and_clean_data(train)\n",
        "test = prepare_and_clean_data(test)\n",
        "\n",
        "y = train['inf_rate']\n",
        "train = train.drop('inf_rate', axis=1)\n",
        "test = test.drop('inf_rate', axis=1)\n",
        "\n",
        "train, test = smart_fillna_for_tubercul(train, test)\n",
        "\n",
        "train = making_features(train)\n",
        "test = making_features(test)\n",
        "\n",
        "train, test = scaling(train, test)\n",
        "\n",
        "tmp = pd.concat([train, test])\n",
        "tmp = pd.get_dummies(tmp)\n",
        "\n",
        "train, test = tmp[:len(train)], tmp[len(train):]"
      ],
      "metadata": {
        "colab": {
          "base_uri": "https://localhost:8080/"
        },
        "id": "arVy3d1CXNKB",
        "outputId": "5e0ba3b7-5f89-4b25-c132-e750e9ae7400"
      },
      "execution_count": 16,
      "outputs": [
        {
          "output_type": "stream",
          "name": "stderr",
          "text": [
            "/usr/local/lib/python3.7/dist-packages/pandas/core/frame.py:3678: PerformanceWarning: DataFrame is highly fragmented.  This is usually the result of calling `frame.insert` many times, which has poor performance.  Consider joining all columns at once using pd.concat(axis=1) instead.  To get a de-fragmented frame, use `newframe = frame.copy()`\n",
            "  self[col] = igetitem(value, i)\n"
          ]
        }
      ]
    },
    {
      "cell_type": "code",
      "source": [
        "X_train, X_val, y_train, y_val = train_test_split(train, y, test_size=0.2, random_state=42, shuffle=False)\n",
        "\n",
        "#модель для экспериментов\n",
        "cb_for_valid = CatBoostRegressor(iterations=13000, eval_metric='MAE', random_seed=42, random_strength=0.6, learning_rate=0.007)\n",
        "cb_for_valid.fit(X_train, y_train, verbose=500, eval_set=(X_val, y_val))\n",
        "print(mean_absolute_error(y_val, cb_for_valid.predict(X_val)))"
      ],
      "metadata": {
        "colab": {
          "base_uri": "https://localhost:8080/"
        },
        "id": "4vHhhmgKZ5XB",
        "outputId": "59902d4f-6215-4f7f-98ae-c526c4b20510"
      },
      "execution_count": null,
      "outputs": [
        {
          "output_type": "stream",
          "name": "stdout",
          "text": [
            "0:\tlearn: 0.7492103\ttest: 0.6708399\tbest: 0.6708399 (0)\ttotal: 28.3ms\tremaining: 6m 8s\n",
            "500:\tlearn: 0.1303369\ttest: 0.1057503\tbest: 0.1057503 (500)\ttotal: 7.99s\tremaining: 3m 19s\n",
            "1000:\tlearn: 0.0439168\ttest: 0.0339506\tbest: 0.0339506 (1000)\ttotal: 16.2s\tremaining: 3m 13s\n",
            "1500:\tlearn: 0.0254615\ttest: 0.0173108\tbest: 0.0173108 (1500)\ttotal: 23.4s\tremaining: 2m 59s\n",
            "2000:\tlearn: 0.0183606\ttest: 0.0096541\tbest: 0.0096541 (2000)\ttotal: 31.3s\tremaining: 2m 52s\n",
            "2500:\tlearn: 0.0153688\ttest: 0.0064675\tbest: 0.0064675 (2500)\ttotal: 38.7s\tremaining: 2m 42s\n",
            "3000:\tlearn: 0.0137961\ttest: 0.0050295\tbest: 0.0050295 (3000)\ttotal: 42.6s\tremaining: 2m 21s\n",
            "3500:\tlearn: 0.0131416\ttest: 0.0044286\tbest: 0.0044286 (3500)\ttotal: 46.4s\tremaining: 2m 5s\n",
            "4000:\tlearn: 0.0127255\ttest: 0.0040999\tbest: 0.0040999 (4000)\ttotal: 50.2s\tremaining: 1m 52s\n",
            "4500:\tlearn: 0.0124604\ttest: 0.0039164\tbest: 0.0039164 (4500)\ttotal: 53.9s\tremaining: 1m 41s\n",
            "5000:\tlearn: 0.0122661\ttest: 0.0037829\tbest: 0.0037829 (5000)\ttotal: 57.7s\tremaining: 1m 32s\n",
            "5500:\tlearn: 0.0121326\ttest: 0.0037183\tbest: 0.0037183 (5496)\ttotal: 1m 1s\tremaining: 1m 23s\n",
            "6000:\tlearn: 0.0120399\ttest: 0.0036830\tbest: 0.0036829 (5999)\ttotal: 1m 5s\tremaining: 1m 16s\n",
            "6500:\tlearn: 0.0119653\ttest: 0.0036601\tbest: 0.0036600 (6493)\ttotal: 1m 9s\tremaining: 1m 9s\n",
            "7000:\tlearn: 0.0119114\ttest: 0.0036467\tbest: 0.0036467 (7000)\ttotal: 1m 12s\tremaining: 1m 2s\n",
            "7500:\tlearn: 0.0118649\ttest: 0.0036333\tbest: 0.0036331 (7496)\ttotal: 1m 16s\tremaining: 56.3s\n",
            "8000:\tlearn: 0.0118265\ttest: 0.0036268\tbest: 0.0036267 (7990)\ttotal: 1m 20s\tremaining: 50.4s\n",
            "8500:\tlearn: 0.0117944\ttest: 0.0036219\tbest: 0.0036219 (8481)\ttotal: 1m 27s\tremaining: 46.2s\n",
            "9000:\tlearn: 0.0117681\ttest: 0.0036181\tbest: 0.0036180 (8999)\ttotal: 1m 31s\tremaining: 40.5s\n",
            "9500:\tlearn: 0.0117444\ttest: 0.0036144\tbest: 0.0036142 (9481)\ttotal: 1m 34s\tremaining: 35s\n",
            "10000:\tlearn: 0.0117241\ttest: 0.0036116\tbest: 0.0036116 (9998)\ttotal: 1m 38s\tremaining: 29.6s\n",
            "10500:\tlearn: 0.0117057\ttest: 0.0036064\tbest: 0.0036064 (10500)\ttotal: 1m 42s\tremaining: 24.4s\n",
            "11000:\tlearn: 0.0116892\ttest: 0.0036018\tbest: 0.0036018 (10989)\ttotal: 1m 46s\tremaining: 19.4s\n",
            "11500:\tlearn: 0.0116742\ttest: 0.0035980\tbest: 0.0035980 (11493)\ttotal: 1m 50s\tremaining: 14.4s\n",
            "12000:\tlearn: 0.0116595\ttest: 0.0035942\tbest: 0.0035942 (11997)\ttotal: 1m 54s\tremaining: 9.51s\n",
            "12500:\tlearn: 0.0116475\ttest: 0.0035906\tbest: 0.0035906 (12500)\ttotal: 1m 58s\tremaining: 4.72s\n",
            "12999:\tlearn: 0.0116369\ttest: 0.0035879\tbest: 0.0035879 (12995)\ttotal: 2m 2s\tremaining: 0us\n",
            "\n",
            "bestTest = 0.003587859812\n",
            "bestIteration = 12995\n",
            "\n",
            "Shrink model to first 12996 iterations.\n",
            "0.00358886647926496\n"
          ]
        }
      ]
    },
    {
      "cell_type": "code",
      "source": [
        "#важность признаков\n",
        "imp = cb_for_valid.get_feature_importance(prettified=True).set_index('Feature Id')\n",
        "display(imp)"
      ],
      "metadata": {
        "colab": {
          "base_uri": "https://localhost:8080/",
          "height": 450
        },
        "id": "X-Xx6653buoT",
        "outputId": "679d5a95-3c93-4ef1-8c60-2d5f3fe2b318"
      },
      "execution_count": null,
      "outputs": [
        {
          "output_type": "display_data",
          "data": {
            "text/plain": [
              "                              Importances\n",
              "Feature Id                               \n",
              "wind_speed_ms_std_std            8.189217\n",
              "volume_serv_tourism_2017_std     4.180883\n",
              "volume_serv_others_2017_std      3.918051\n",
              "work_ratio_15-72_years_std       3.590307\n",
              "volume_serv_housing_2017_std     3.570692\n",
              "...                                   ...\n",
              "subject_Ингушетия                0.000000\n",
              "subject_Ненецкий АО              0.000000\n",
              "subject_Камчатский край          0.000000\n",
              "subject_Санкт-Петербург          0.000000\n",
              "subject_Севастополь              0.000000\n",
              "\n",
              "[191 rows x 1 columns]"
            ],
            "text/html": [
              "\n",
              "  <div id=\"df-c1ba79de-a158-42d6-aa91-4faaef09458e\">\n",
              "    <div class=\"colab-df-container\">\n",
              "      <div>\n",
              "<style scoped>\n",
              "    .dataframe tbody tr th:only-of-type {\n",
              "        vertical-align: middle;\n",
              "    }\n",
              "\n",
              "    .dataframe tbody tr th {\n",
              "        vertical-align: top;\n",
              "    }\n",
              "\n",
              "    .dataframe thead th {\n",
              "        text-align: right;\n",
              "    }\n",
              "</style>\n",
              "<table border=\"1\" class=\"dataframe\">\n",
              "  <thead>\n",
              "    <tr style=\"text-align: right;\">\n",
              "      <th></th>\n",
              "      <th>Importances</th>\n",
              "    </tr>\n",
              "    <tr>\n",
              "      <th>Feature Id</th>\n",
              "      <th></th>\n",
              "    </tr>\n",
              "  </thead>\n",
              "  <tbody>\n",
              "    <tr>\n",
              "      <th>wind_speed_ms_std_std</th>\n",
              "      <td>8.189217</td>\n",
              "    </tr>\n",
              "    <tr>\n",
              "      <th>volume_serv_tourism_2017_std</th>\n",
              "      <td>4.180883</td>\n",
              "    </tr>\n",
              "    <tr>\n",
              "      <th>volume_serv_others_2017_std</th>\n",
              "      <td>3.918051</td>\n",
              "    </tr>\n",
              "    <tr>\n",
              "      <th>work_ratio_15-72_years_std</th>\n",
              "      <td>3.590307</td>\n",
              "    </tr>\n",
              "    <tr>\n",
              "      <th>volume_serv_housing_2017_std</th>\n",
              "      <td>3.570692</td>\n",
              "    </tr>\n",
              "    <tr>\n",
              "      <th>...</th>\n",
              "      <td>...</td>\n",
              "    </tr>\n",
              "    <tr>\n",
              "      <th>subject_Ингушетия</th>\n",
              "      <td>0.000000</td>\n",
              "    </tr>\n",
              "    <tr>\n",
              "      <th>subject_Ненецкий АО</th>\n",
              "      <td>0.000000</td>\n",
              "    </tr>\n",
              "    <tr>\n",
              "      <th>subject_Камчатский край</th>\n",
              "      <td>0.000000</td>\n",
              "    </tr>\n",
              "    <tr>\n",
              "      <th>subject_Санкт-Петербург</th>\n",
              "      <td>0.000000</td>\n",
              "    </tr>\n",
              "    <tr>\n",
              "      <th>subject_Севастополь</th>\n",
              "      <td>0.000000</td>\n",
              "    </tr>\n",
              "  </tbody>\n",
              "</table>\n",
              "<p>191 rows × 1 columns</p>\n",
              "</div>\n",
              "      <button class=\"colab-df-convert\" onclick=\"convertToInteractive('df-c1ba79de-a158-42d6-aa91-4faaef09458e')\"\n",
              "              title=\"Convert this dataframe to an interactive table.\"\n",
              "              style=\"display:none;\">\n",
              "        \n",
              "  <svg xmlns=\"http://www.w3.org/2000/svg\" height=\"24px\"viewBox=\"0 0 24 24\"\n",
              "       width=\"24px\">\n",
              "    <path d=\"M0 0h24v24H0V0z\" fill=\"none\"/>\n",
              "    <path d=\"M18.56 5.44l.94 2.06.94-2.06 2.06-.94-2.06-.94-.94-2.06-.94 2.06-2.06.94zm-11 1L8.5 8.5l.94-2.06 2.06-.94-2.06-.94L8.5 2.5l-.94 2.06-2.06.94zm10 10l.94 2.06.94-2.06 2.06-.94-2.06-.94-.94-2.06-.94 2.06-2.06.94z\"/><path d=\"M17.41 7.96l-1.37-1.37c-.4-.4-.92-.59-1.43-.59-.52 0-1.04.2-1.43.59L10.3 9.45l-7.72 7.72c-.78.78-.78 2.05 0 2.83L4 21.41c.39.39.9.59 1.41.59.51 0 1.02-.2 1.41-.59l7.78-7.78 2.81-2.81c.8-.78.8-2.07 0-2.86zM5.41 20L4 18.59l7.72-7.72 1.47 1.35L5.41 20z\"/>\n",
              "  </svg>\n",
              "      </button>\n",
              "      \n",
              "  <style>\n",
              "    .colab-df-container {\n",
              "      display:flex;\n",
              "      flex-wrap:wrap;\n",
              "      gap: 12px;\n",
              "    }\n",
              "\n",
              "    .colab-df-convert {\n",
              "      background-color: #E8F0FE;\n",
              "      border: none;\n",
              "      border-radius: 50%;\n",
              "      cursor: pointer;\n",
              "      display: none;\n",
              "      fill: #1967D2;\n",
              "      height: 32px;\n",
              "      padding: 0 0 0 0;\n",
              "      width: 32px;\n",
              "    }\n",
              "\n",
              "    .colab-df-convert:hover {\n",
              "      background-color: #E2EBFA;\n",
              "      box-shadow: 0px 1px 2px rgba(60, 64, 67, 0.3), 0px 1px 3px 1px rgba(60, 64, 67, 0.15);\n",
              "      fill: #174EA6;\n",
              "    }\n",
              "\n",
              "    [theme=dark] .colab-df-convert {\n",
              "      background-color: #3B4455;\n",
              "      fill: #D2E3FC;\n",
              "    }\n",
              "\n",
              "    [theme=dark] .colab-df-convert:hover {\n",
              "      background-color: #434B5C;\n",
              "      box-shadow: 0px 1px 3px 1px rgba(0, 0, 0, 0.15);\n",
              "      filter: drop-shadow(0px 1px 2px rgba(0, 0, 0, 0.3));\n",
              "      fill: #FFFFFF;\n",
              "    }\n",
              "  </style>\n",
              "\n",
              "      <script>\n",
              "        const buttonEl =\n",
              "          document.querySelector('#df-c1ba79de-a158-42d6-aa91-4faaef09458e button.colab-df-convert');\n",
              "        buttonEl.style.display =\n",
              "          google.colab.kernel.accessAllowed ? 'block' : 'none';\n",
              "\n",
              "        async function convertToInteractive(key) {\n",
              "          const element = document.querySelector('#df-c1ba79de-a158-42d6-aa91-4faaef09458e');\n",
              "          const dataTable =\n",
              "            await google.colab.kernel.invokeFunction('convertToInteractive',\n",
              "                                                     [key], {});\n",
              "          if (!dataTable) return;\n",
              "\n",
              "          const docLinkHtml = 'Like what you see? Visit the ' +\n",
              "            '<a target=\"_blank\" href=https://colab.research.google.com/notebooks/data_table.ipynb>data table notebook</a>'\n",
              "            + ' to learn more about interactive tables.';\n",
              "          element.innerHTML = '';\n",
              "          dataTable['output_type'] = 'display_data';\n",
              "          await google.colab.output.renderOutput(dataTable, element);\n",
              "          const docLink = document.createElement('div');\n",
              "          docLink.innerHTML = docLinkHtml;\n",
              "          element.appendChild(docLink);\n",
              "        }\n",
              "      </script>\n",
              "    </div>\n",
              "  </div>\n",
              "  "
            ]
          },
          "metadata": {}
        }
      ]
    },
    {
      "cell_type": "code",
      "source": [
        "#обучение на полном датасете финальной модели для прода\n",
        "final_cb = CatBoostRegressor(iterations=13000, random_seed=42, random_strength=0.6, learning_rate=0.007)\n",
        "final_cb.fit(train, y, verbose=500)"
      ],
      "metadata": {
        "id": "p8IxhZeP_d69",
        "colab": {
          "base_uri": "https://localhost:8080/"
        },
        "outputId": "15b7cdba-0120-474f-9238-138f2e99ce0a"
      },
      "execution_count": 18,
      "outputs": [
        {
          "output_type": "stream",
          "name": "stdout",
          "text": [
            "0:\tlearn: 0.9248008\ttotal: 58ms\tremaining: 12m 33s\n",
            "500:\tlearn: 0.1565610\ttotal: 6.35s\tremaining: 2m 38s\n",
            "1000:\tlearn: 0.0822574\ttotal: 10.1s\tremaining: 2m 1s\n",
            "1500:\tlearn: 0.0703916\ttotal: 13.9s\tremaining: 1m 46s\n",
            "2000:\tlearn: 0.0678446\ttotal: 17.7s\tremaining: 1m 37s\n",
            "2500:\tlearn: 0.0673603\ttotal: 21.5s\tremaining: 1m 30s\n",
            "3000:\tlearn: 0.0672623\ttotal: 25.3s\tremaining: 1m 24s\n",
            "3500:\tlearn: 0.0672293\ttotal: 29s\tremaining: 1m 18s\n",
            "4000:\tlearn: 0.0672183\ttotal: 32.8s\tremaining: 1m 13s\n",
            "4500:\tlearn: 0.0672138\ttotal: 36.6s\tremaining: 1m 9s\n",
            "5000:\tlearn: 0.0672107\ttotal: 40.4s\tremaining: 1m 4s\n",
            "5500:\tlearn: 0.0672092\ttotal: 44.1s\tremaining: 1m\n",
            "6000:\tlearn: 0.0672081\ttotal: 47.9s\tremaining: 55.9s\n",
            "6500:\tlearn: 0.0672073\ttotal: 51.7s\tremaining: 51.7s\n",
            "7000:\tlearn: 0.0672067\ttotal: 55.5s\tremaining: 47.6s\n",
            "7500:\tlearn: 0.0672064\ttotal: 59.3s\tremaining: 43.5s\n",
            "8000:\tlearn: 0.0672061\ttotal: 1m 3s\tremaining: 39.4s\n",
            "8500:\tlearn: 0.0672059\ttotal: 1m 6s\tremaining: 35.4s\n",
            "9000:\tlearn: 0.0672058\ttotal: 1m 12s\tremaining: 32.3s\n",
            "9500:\tlearn: 0.0672057\ttotal: 1m 16s\tremaining: 28.3s\n",
            "10000:\tlearn: 0.0672056\ttotal: 1m 20s\tremaining: 24.2s\n",
            "10500:\tlearn: 0.0672056\ttotal: 1m 25s\tremaining: 20.3s\n",
            "11000:\tlearn: 0.0672055\ttotal: 1m 29s\tremaining: 16.2s\n",
            "11500:\tlearn: 0.0672055\ttotal: 1m 33s\tremaining: 12.2s\n",
            "12000:\tlearn: 0.0672055\ttotal: 1m 37s\tremaining: 8.08s\n",
            "12500:\tlearn: 0.0672054\ttotal: 1m 40s\tremaining: 4.02s\n",
            "12999:\tlearn: 0.0672054\ttotal: 1m 44s\tremaining: 0us\n"
          ]
        },
        {
          "output_type": "execute_result",
          "data": {
            "text/plain": [
              "<catboost.core.CatBoostRegressor at 0x7f2e399a0f50>"
            ]
          },
          "metadata": {},
          "execution_count": 18
        }
      ]
    },
    {
      "cell_type": "code",
      "source": [
        "#предсказания \n",
        "test_preds = final_cb.predict(test)\n",
        "sub = pd.DataFrame({'Unnamed: 0': test.index, 'inf_rate': test_preds})\n",
        "print(sub[:5])\n",
        "\n",
        "sub.to_csv('FSD.csv', index=False)\n",
        "final_cb.save_model('final_model')"
      ],
      "metadata": {
        "id": "SjaPG1q70Pno",
        "colab": {
          "base_uri": "https://localhost:8080/"
        },
        "outputId": "01e6d25b-03ba-48ed-d655-81cf924bee8c"
      },
      "execution_count": 21,
      "outputs": [
        {
          "output_type": "stream",
          "name": "stdout",
          "text": [
            "   Unnamed: 0  inf_rate\n",
            "0         451  2.708254\n",
            "1         452  0.693207\n",
            "2         453  0.693946\n",
            "3         454  1.609505\n",
            "4         455  1.386796\n"
          ]
        }
      ]
    },
    {
      "cell_type": "code",
      "source": [
        ""
      ],
      "metadata": {
        "id": "EBPOH12Eng-M"
      },
      "execution_count": null,
      "outputs": []
    }
  ]
}
